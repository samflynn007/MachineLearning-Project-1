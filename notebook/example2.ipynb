{
 "cells": [
  {
   "cell_type": "code",
   "execution_count": null,
   "metadata": {},
   "outputs": [
    {
     "ename": "",
     "evalue": "",
     "output_type": "error",
     "traceback": [
      "\u001b[1;31mRunning cells with '/Users/venkyn/Desktop/Python/Machine Learning/EndTOEnd1/MachineLearning-Project-1/venv/bin/python' requires ipykernel package.\n",
      "\u001b[1;31mRun the following command to install 'ipykernel' into the Python environment. \n",
      "\u001b[1;31mCommand: 'conda install -p /Users/venkyn/Desktop/Python/Machine Learning/EndTOEnd1/MachineLearning-Project-1/venv ipykernel --update-deps --force-reinstall'"
     ]
    }
   ],
   "source": [
    "url = \"https://raw.githubusercontent.com/ageron/handson-ml/master/datasets/housing/housing.tgz\"\n"
   ]
  }
 ],
 "metadata": {
  "kernelspec": {
   "display_name": "Python 3",
   "language": "python",
   "name": "python3"
  },
  "language_info": {
   "name": "python",
   "version": "3.7.0 (default, Jun 28 2018, 07:39:16) \n[Clang 4.0.1 (tags/RELEASE_401/final)]"
  },
  "orig_nbformat": 4,
  "vscode": {
   "interpreter": {
    "hash": "bdc89f2ab059e9eee175c57806aa29975e7b9c62fe67efb9ee9c4f90ebdc120a"
   }
  }
 },
 "nbformat": 4,
 "nbformat_minor": 2
}
